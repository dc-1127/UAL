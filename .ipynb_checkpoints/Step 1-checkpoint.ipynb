{
 "cells": [
  {
   "cell_type": "code",
   "execution_count": null,
   "metadata": {},
   "outputs": [],
   "source": [
    "import pandas as pd\n",
    "\n",
    "def load_data():\n",
    "    emp = pd.read_csv('employees.csv')\n",
    "    sys_access = pd.read_csv('system_access.csv')\n",
    "\n",
    "    return emp, sys_access\n",
    "\n"
   ]
  },
  {
   "cell_type": "code",
   "execution_count": null,
   "metadata": {},
   "outputs": [],
   "source": [
    "def correct_id(df):\n",
    "    df.rename(columns={'id':'employee_number'}, inplace=True)\n",
    "    df['employee_number'] = 'EMP' + df['employee_number'].astype(str).str.zfill(6)\n",
    "\n",
    "    return df\n",
    "\n"
   ]
  },
  {
   "cell_type": "code",
   "execution_count": null,
   "metadata": {},
   "outputs": [],
   "source": [
    "def join_data(emp, sys_access):\n",
    "    emp.set_index('employee_number', inplace = True)\n",
    "    sys_access.set_index('employee_number', inplace = True)\n",
    "    df = emp.join(sys_access)\n",
    "\n",
    "    return df\n"
   ]
  },
  {
   "cell_type": "code",
   "execution_count": null,
   "metadata": {},
   "outputs": [],
   "source": []
  }
 ],
 "metadata": {
  "kernelspec": {
   "display_name": "Python 3",
   "language": "python",
   "name": "python3"
  },
  "language_info": {
   "codemirror_mode": {
    "name": "ipython",
    "version": 3
   },
   "file_extension": ".py",
   "mimetype": "text/x-python",
   "name": "python",
   "nbconvert_exporter": "python",
   "pygments_lexer": "ipython3",
   "version": "3.8.3"
  }
 },
 "nbformat": 4,
 "nbformat_minor": 4
}
